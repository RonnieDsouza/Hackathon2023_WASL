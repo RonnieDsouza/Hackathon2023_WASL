{
 "cells": [
  {
   "cell_type": "code",
   "execution_count": 1,
   "id": "425e53b4",
   "metadata": {
    "_cell_guid": "b1076dfc-b9ad-4769-8c92-a6c4dae69d19",
    "_uuid": "8f2839f25d086af736a60e9eeb907d3b93b6e0e5",
    "execution": {
     "iopub.execute_input": "2023-02-25T17:59:55.758241Z",
     "iopub.status.busy": "2023-02-25T17:59:55.756943Z",
     "iopub.status.idle": "2023-02-25T18:00:13.867714Z",
     "shell.execute_reply": "2023-02-25T18:00:13.866068Z"
    },
    "papermill": {
     "duration": 18.118505,
     "end_time": "2023-02-25T18:00:13.870697",
     "exception": false,
     "start_time": "2023-02-25T17:59:55.752192",
     "status": "completed"
    },
    "tags": []
   },
   "outputs": [
    {
     "name": "stdout",
     "output_type": "stream",
     "text": [
      "/kaggle/input\n",
      "/kaggle/input/wlasl-processed\n",
      "/kaggle/input/wlasl-processed/videos\n"
     ]
    }
   ],
   "source": [
    "# This Python 3 environment comes with many helpful analytics libraries installed\n",
    "# It is defined by the kaggle/python Docker image: https://github.com/kaggle/docker-python\n",
    "# For example, here's several helpful packages to load\n",
    "\n",
    "import numpy as np # linear algebra\n",
    "import pandas as pd # data processing, CSV file I/O (e.g. pd.read_csv)\n",
    "\n",
    "# Input data files are available in the read-only \"../input/\" directory\n",
    "# For example, running this (by clicking run or pressing Shift+Enter) will list all files under the input directory\n",
    "\n",
    "import os\n",
    "for dirname, _, filenames in os.walk('/kaggle/input'):\n",
    "#     for filename in filenames:\n",
    "    print(os.path.join(dirname))#, filename))\n",
    "\n",
    "# You can write up to 20GB to the current directory (/kaggle/working/) that gets preserved as output when you create a version using \"Save & Run All\" \n",
    "# You can also write temporary files to /kaggle/temp/, but they won't be saved outside of the current session"
   ]
  },
  {
   "cell_type": "code",
   "execution_count": 2,
   "id": "a50bd8fe",
   "metadata": {
    "execution": {
     "iopub.execute_input": "2023-02-25T18:00:13.877145Z",
     "iopub.status.busy": "2023-02-25T18:00:13.876675Z",
     "iopub.status.idle": "2023-02-25T18:00:13.882088Z",
     "shell.execute_reply": "2023-02-25T18:00:13.881126Z"
    },
    "papermill": {
     "duration": 0.011802,
     "end_time": "2023-02-25T18:00:13.884832",
     "exception": false,
     "start_time": "2023-02-25T18:00:13.873030",
     "status": "completed"
    },
    "tags": []
   },
   "outputs": [
    {
     "name": "stdout",
     "output_type": "stream",
     "text": [
      "Hel=\n"
     ]
    }
   ],
   "source": [
    "print('Hel=')\n"
   ]
  }
 ],
 "metadata": {
  "kernelspec": {
   "display_name": "Python 3",
   "language": "python",
   "name": "python3"
  },
  "language_info": {
   "codemirror_mode": {
    "name": "ipython",
    "version": 3
   },
   "file_extension": ".py",
   "mimetype": "text/x-python",
   "name": "python",
   "nbconvert_exporter": "python",
   "pygments_lexer": "ipython3",
   "version": "3.7.12"
  },
  "papermill": {
   "default_parameters": {},
   "duration": 28.781509,
   "end_time": "2023-02-25T18:00:14.610087",
   "environment_variables": {},
   "exception": null,
   "input_path": "__notebook__.ipynb",
   "output_path": "__notebook__.ipynb",
   "parameters": {},
   "start_time": "2023-02-25T17:59:45.828578",
   "version": "2.4.0"
  }
 },
 "nbformat": 4,
 "nbformat_minor": 5
}
