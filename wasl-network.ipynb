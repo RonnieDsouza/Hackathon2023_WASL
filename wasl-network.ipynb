{
 "cells": [
  {
   "cell_type": "code",
   "execution_count": 1,
   "id": "beffb49a",
   "metadata": {
    "_cell_guid": "b1076dfc-b9ad-4769-8c92-a6c4dae69d19",
    "_uuid": "8f2839f25d086af736a60e9eeb907d3b93b6e0e5",
    "execution": {
     "iopub.execute_input": "2023-02-25T23:22:43.646045Z",
     "iopub.status.busy": "2023-02-25T23:22:43.645614Z",
     "iopub.status.idle": "2023-02-25T23:22:48.312839Z",
     "shell.execute_reply": "2023-02-25T23:22:48.311722Z"
    },
    "papermill": {
     "duration": 4.677904,
     "end_time": "2023-02-25T23:22:48.315275",
     "exception": false,
     "start_time": "2023-02-25T23:22:43.637371",
     "status": "completed"
    },
    "tags": []
   },
   "outputs": [
    {
     "name": "stdout",
     "output_type": "stream",
     "text": [
      "/kaggle/input\n",
      "/kaggle/input/wlasl-processed\n",
      "/kaggle/input/wlasl-processed/videos\n",
      "/kaggle/input/helper\n"
     ]
    }
   ],
   "source": [
    "# This Python 3 environment comes with many helpful analytics libraries installed\n",
    "# It is defined by the kaggle/python Docker image: https://github.com/kaggle/docker-python\n",
    "# For example, here's several helpful packages to load\n",
    "\n",
    "import numpy as np # linear algebra\n",
    "import pandas as pd # data processing, CSV file I/O (e.g. pd.read_csv)\n",
    "\n",
    "# Input data files are available in the read-only \"../input/\" directory\n",
    "# For example, running this (by clicking run or pressing Shift+Enter) will list all files under the input directory\n",
    "\n",
    "import os\n",
    "for dirname, _, filenames in os.walk('/kaggle/input'):\n",
    "#     for filename in filenames:\n",
    "    print(os.path.join(dirname))#, filename))\n",
    "\n",
    "# You can write up to 20GB to the current directory (/kaggle/working/) that gets preserved as output when you create a version using \"Save & Run All\" \n",
    "# You can also write temporary files to /kaggle/temp/, but they won't be saved outside of the current session"
   ]
  },
  {
   "cell_type": "code",
   "execution_count": 2,
   "id": "33177b03",
   "metadata": {
    "_kg_hide-output": true,
    "execution": {
     "iopub.execute_input": "2023-02-25T23:22:48.328459Z",
     "iopub.status.busy": "2023-02-25T23:22:48.328116Z",
     "iopub.status.idle": "2023-02-25T23:23:00.883527Z",
     "shell.execute_reply": "2023-02-25T23:23:00.882318Z"
    },
    "papermill": {
     "duration": 12.564649,
     "end_time": "2023-02-25T23:23:00.886130",
     "exception": false,
     "start_time": "2023-02-25T23:22:48.321481",
     "status": "completed"
    },
    "tags": []
   },
   "outputs": [
    {
     "name": "stdout",
     "output_type": "stream",
     "text": [
      "Collecting mediapipe\r\n",
      "  Downloading mediapipe-0.9.0.1-cp37-cp37m-manylinux_2_17_x86_64.manylinux2014_x86_64.whl (33.0 MB)\r\n",
      "\u001b[2K     \u001b[90m━━━━━━━━━━━━━━━━━━━━━━━━━━━━━━━━━━━━━━━━\u001b[0m \u001b[32m33.0/33.0 MB\u001b[0m \u001b[31m34.7 MB/s\u001b[0m eta \u001b[36m0:00:00\u001b[0m\r\n",
      "\u001b[?25hRequirement already satisfied: flatbuffers>=2.0 in /opt/conda/lib/python3.7/site-packages (from mediapipe) (23.1.21)\r\n",
      "Requirement already satisfied: matplotlib in /opt/conda/lib/python3.7/site-packages (from mediapipe) (3.5.3)\r\n",
      "Requirement already satisfied: attrs>=19.1.0 in /opt/conda/lib/python3.7/site-packages (from mediapipe) (22.2.0)\r\n",
      "Requirement already satisfied: absl-py in /opt/conda/lib/python3.7/site-packages (from mediapipe) (1.4.0)\r\n",
      "Requirement already satisfied: opencv-contrib-python in /opt/conda/lib/python3.7/site-packages (from mediapipe) (4.5.4.60)\r\n",
      "Requirement already satisfied: protobuf<4,>=3.11 in /opt/conda/lib/python3.7/site-packages (from mediapipe) (3.20.3)\r\n",
      "Requirement already satisfied: numpy in /opt/conda/lib/python3.7/site-packages (from mediapipe) (1.21.6)\r\n",
      "Requirement already satisfied: packaging>=20.0 in /opt/conda/lib/python3.7/site-packages (from matplotlib->mediapipe) (23.0)\r\n",
      "Requirement already satisfied: pyparsing>=2.2.1 in /opt/conda/lib/python3.7/site-packages (from matplotlib->mediapipe) (3.0.9)\r\n",
      "Requirement already satisfied: pillow>=6.2.0 in /opt/conda/lib/python3.7/site-packages (from matplotlib->mediapipe) (9.4.0)\r\n",
      "Requirement already satisfied: cycler>=0.10 in /opt/conda/lib/python3.7/site-packages (from matplotlib->mediapipe) (0.11.0)\r\n",
      "Requirement already satisfied: fonttools>=4.22.0 in /opt/conda/lib/python3.7/site-packages (from matplotlib->mediapipe) (4.38.0)\r\n",
      "Requirement already satisfied: python-dateutil>=2.7 in /opt/conda/lib/python3.7/site-packages (from matplotlib->mediapipe) (2.8.2)\r\n",
      "Requirement already satisfied: kiwisolver>=1.0.1 in /opt/conda/lib/python3.7/site-packages (from matplotlib->mediapipe) (1.4.4)\r\n",
      "Requirement already satisfied: typing-extensions in /opt/conda/lib/python3.7/site-packages (from kiwisolver>=1.0.1->matplotlib->mediapipe) (4.4.0)\r\n",
      "Requirement already satisfied: six>=1.5 in /opt/conda/lib/python3.7/site-packages (from python-dateutil>=2.7->matplotlib->mediapipe) (1.16.0)\r\n",
      "Installing collected packages: mediapipe\r\n",
      "Successfully installed mediapipe-0.9.0.1\r\n",
      "\u001b[33mWARNING: Running pip as the 'root' user can result in broken permissions and conflicting behaviour with the system package manager. It is recommended to use a virtual environment instead: https://pip.pypa.io/warnings/venv\u001b[0m\u001b[33m\r\n",
      "\u001b[0m"
     ]
    }
   ],
   "source": [
    "!pip install mediapipe"
   ]
  },
  {
   "cell_type": "code",
   "execution_count": 3,
   "id": "0f555cca",
   "metadata": {
    "execution": {
     "iopub.execute_input": "2023-02-25T23:23:00.901625Z",
     "iopub.status.busy": "2023-02-25T23:23:00.901276Z",
     "iopub.status.idle": "2023-02-25T23:23:01.172203Z",
     "shell.execute_reply": "2023-02-25T23:23:01.171112Z"
    },
    "papermill": {
     "duration": 0.281705,
     "end_time": "2023-02-25T23:23:01.174968",
     "exception": false,
     "start_time": "2023-02-25T23:23:00.893263",
     "status": "completed"
    },
    "tags": []
   },
   "outputs": [],
   "source": [
    "import cv2\n",
    "import mediapipe as mp\n",
    "import json\n",
    "import time\n",
    "import sys\n",
    "import urllib.request\n",
    "import random\n",
    "import logging\n",
    "\n",
    "from multiprocessing.dummy import Pool\n",
    "from pathlib import Path\n",
    "import matplotlib.pyplot as plt\n",
    "\n",
    "\n",
    "# from tdqm import tdqm"
   ]
  },
  {
   "cell_type": "code",
   "execution_count": 4,
   "id": "78add8c6",
   "metadata": {
    "_kg_hide-input": false,
    "execution": {
     "iopub.execute_input": "2023-02-25T23:23:01.192879Z",
     "iopub.status.busy": "2023-02-25T23:23:01.191152Z",
     "iopub.status.idle": "2023-02-25T23:23:01.196513Z",
     "shell.execute_reply": "2023-02-25T23:23:01.195501Z"
    },
    "papermill": {
     "duration": 0.016421,
     "end_time": "2023-02-25T23:23:01.198937",
     "exception": false,
     "start_time": "2023-02-25T23:23:01.182516",
     "status": "completed"
    },
    "tags": []
   },
   "outputs": [],
   "source": [
    "# for dirname, _, filenames in os.walk('/kaggle/input'):\n",
    "#     for filename in filenames:\n",
    "#         print(os.path.join(dirname, filename))\n"
   ]
  },
  {
   "cell_type": "markdown",
   "id": "cb89215e",
   "metadata": {
    "papermill": {
     "duration": 0.006741,
     "end_time": "2023-02-25T23:23:01.212780",
     "exception": false,
     "start_time": "2023-02-25T23:23:01.206039",
     "status": "completed"
    },
    "tags": []
   },
   "source": [
    "**Read the JSON File**"
   ]
  },
  {
   "cell_type": "code",
   "execution_count": 5,
   "id": "a1fda597",
   "metadata": {
    "execution": {
     "iopub.execute_input": "2023-02-25T23:23:01.228781Z",
     "iopub.status.busy": "2023-02-25T23:23:01.227754Z",
     "iopub.status.idle": "2023-02-25T23:23:01.667843Z",
     "shell.execute_reply": "2023-02-25T23:23:01.666703Z"
    },
    "papermill": {
     "duration": 0.456149,
     "end_time": "2023-02-25T23:23:01.675814",
     "exception": false,
     "start_time": "2023-02-25T23:23:01.219665",
     "status": "completed"
    },
    "tags": []
   },
   "outputs": [
    {
     "name": "stdout",
     "output_type": "stream",
     "text": [
      "Total glosses(labels): 2000\n",
      "Total samples: train:14289, val:3916, test:2878\n"
     ]
    }
   ],
   "source": [
    "json_path = '/kaggle/input/wlasl-processed/WLASL_v0.3.json'\n",
    "\n",
    "with open(json_path) as ipf:\n",
    "    content = json.load(ipf)\n",
    " \n",
    "#initialise counts for subsets\n",
    "count_train = 0\n",
    "count_val = 0\n",
    "count_test = 0\n",
    "\n",
    "#read the json\n",
    "for entity in content:\n",
    "    gloss = entity['gloss']\n",
    "    \n",
    "    for inst in entity['instances']:\n",
    "        split = inst['split']\n",
    "        \n",
    "        if split == 'train':\n",
    "            count_train += 1\n",
    "        elif split == 'test':\n",
    "            count_test += 1\n",
    "        elif split == 'val':\n",
    "            count_val += 1\n",
    "        else:\n",
    "            raise ValueError('Error: Invalid split.')\n",
    "\n",
    "            \n",
    "print(f'Total glosses(labels): {len(content)}')\n",
    "print(f'Total samples: train:{count_train}, val:{count_val}, test:{count_test}')"
   ]
  },
  {
   "cell_type": "code",
   "execution_count": 6,
   "id": "0b9afcd8",
   "metadata": {
    "execution": {
     "iopub.execute_input": "2023-02-25T23:23:01.698726Z",
     "iopub.status.busy": "2023-02-25T23:23:01.697936Z",
     "iopub.status.idle": "2023-02-25T23:24:49.845201Z",
     "shell.execute_reply": "2023-02-25T23:24:49.844153Z"
    },
    "papermill": {
     "duration": 108.16166,
     "end_time": "2023-02-25T23:24:49.848127",
     "exception": false,
     "start_time": "2023-02-25T23:23:01.686467",
     "status": "completed"
    },
    "tags": []
   },
   "outputs": [],
   "source": [
    "def parse_json(): #converts the json file into a pandas datatype\n",
    "    \n",
    "    \n",
    "    jsonpath = \"/kaggle/input/wlasl-processed/WLASL_v0.3.json\"#json path\n",
    "    \n",
    "    #open json file as list of dictionaries\n",
    "    with open(jsonpath) as data_file:    \n",
    "        data = json.load(data_file)  \n",
    "        \n",
    "    header = [\"gloss\"]\n",
    "    \n",
    "\n",
    "    datakey = data[0][\"instances\"][0].keys() #create the column heads \n",
    "    for h in datakey:\n",
    "        header.append(h)\n",
    "\n",
    "    \n",
    "    df = pd.DataFrame(columns=header,dtype = object)#create an empty dataframe\n",
    "    \n",
    "    gloss_list = [d[\"gloss\"] for d in data] #get list of glosses\n",
    "    \n",
    "    #iterate every gloss in the list and apend every video of that gloss\n",
    "    for i in range(len(gloss_list)):\n",
    "        gloss = gloss_list[i]\n",
    "        instances = data[i][\"instances\"] #list of instances\n",
    "        for j in range(len(instances)): #iterate over every instance\n",
    "            entry = instances[j]\n",
    "            entry[\"gloss\"] = gloss\n",
    "            df = df.append(entry,ignore_index=True)\n",
    "    return (df, gloss_list) \n",
    "\n",
    "#uncomment the following if json has not been parsed\n",
    "df, gloss_list,  = parse_json()\n",
    "    #open json file as list of dictionaries\n",
    "\n",
    "#comment the following lines if json not has been parsed\n",
    "#with open('WLASL_v0.3.json') as data_file:    \n",
    "#        data = json.load(data_file)  \n",
    "#gloss_list = [d[\"gloss\"] for d in data] #get list of glosses\n"
   ]
  },
  {
   "cell_type": "code",
   "execution_count": 7,
   "id": "e1a7ef6e",
   "metadata": {
    "execution": {
     "iopub.execute_input": "2023-02-25T23:24:49.864805Z",
     "iopub.status.busy": "2023-02-25T23:24:49.864354Z",
     "iopub.status.idle": "2023-02-25T23:24:49.963701Z",
     "shell.execute_reply": "2023-02-25T23:24:49.962681Z"
    },
    "papermill": {
     "duration": 0.110625,
     "end_time": "2023-02-25T23:24:49.966221",
     "exception": false,
     "start_time": "2023-02-25T23:24:49.855596",
     "status": "completed"
    },
    "tags": []
   },
   "outputs": [],
   "source": [
    "raw_vid_path = \"/kaggle/input/wlasl-processed/videos\"#path of the raw video folder\n",
    "\n",
    "vid_paths = os.listdir(raw_vid_path)\n",
    "\n",
    "\n",
    "#remove video clips that are not integers and remove file extension\n",
    "#vid_paths = [Path(path).stem for path in vid_paths if isdigit(Path(path).stem)]\n",
    "vid_paths = [Path(path).stem for path in vid_paths]\n",
    "\n",
    "vid_id = pd.DataFrame(vid_paths,columns=[\"video_id\"],dtype=object)#create an empty dataframe\n",
    "\n",
    "#get intersection\n",
    "clean_df = pd.merge(vid_id,df,how=\"inner\",on=[\"video_id\"])"
   ]
  },
  {
   "cell_type": "code",
   "execution_count": 8,
   "id": "6d570d5b",
   "metadata": {
    "execution": {
     "iopub.execute_input": "2023-02-25T23:24:49.982587Z",
     "iopub.status.busy": "2023-02-25T23:24:49.982274Z",
     "iopub.status.idle": "2023-02-25T23:24:50.004333Z",
     "shell.execute_reply": "2023-02-25T23:24:50.003130Z"
    },
    "papermill": {
     "duration": 0.033965,
     "end_time": "2023-02-25T23:24:50.007294",
     "exception": false,
     "start_time": "2023-02-25T23:24:49.973329",
     "status": "completed"
    },
    "tags": []
   },
   "outputs": [
    {
     "data": {
      "text/html": [
       "<div>\n",
       "<style scoped>\n",
       "    .dataframe tbody tr th:only-of-type {\n",
       "        vertical-align: middle;\n",
       "    }\n",
       "\n",
       "    .dataframe tbody tr th {\n",
       "        vertical-align: top;\n",
       "    }\n",
       "\n",
       "    .dataframe thead th {\n",
       "        text-align: right;\n",
       "    }\n",
       "</style>\n",
       "<table border=\"1\" class=\"dataframe\">\n",
       "  <thead>\n",
       "    <tr style=\"text-align: right;\">\n",
       "      <th></th>\n",
       "      <th>video_id</th>\n",
       "      <th>gloss</th>\n",
       "      <th>bbox</th>\n",
       "      <th>fps</th>\n",
       "      <th>frame_end</th>\n",
       "      <th>frame_start</th>\n",
       "      <th>instance_id</th>\n",
       "      <th>signer_id</th>\n",
       "      <th>source</th>\n",
       "      <th>split</th>\n",
       "      <th>url</th>\n",
       "      <th>variation_id</th>\n",
       "    </tr>\n",
       "  </thead>\n",
       "  <tbody>\n",
       "    <tr>\n",
       "      <th>11975</th>\n",
       "      <td>32388</td>\n",
       "      <td>laugh</td>\n",
       "      <td>[64, 25, 208, 192]</td>\n",
       "      <td>25</td>\n",
       "      <td>-1</td>\n",
       "      <td>1</td>\n",
       "      <td>20</td>\n",
       "      <td>10</td>\n",
       "      <td>signingsavvy</td>\n",
       "      <td>train</td>\n",
       "      <td>https://www.signingsavvy.com/signs/mp4/22/2229...</td>\n",
       "      <td>1</td>\n",
       "    </tr>\n",
       "    <tr>\n",
       "      <th>11976</th>\n",
       "      <td>40117</td>\n",
       "      <td>orange</td>\n",
       "      <td>[910, 68, 1734, 1056]</td>\n",
       "      <td>25</td>\n",
       "      <td>-1</td>\n",
       "      <td>1</td>\n",
       "      <td>8</td>\n",
       "      <td>39</td>\n",
       "      <td>signschool</td>\n",
       "      <td>train</td>\n",
       "      <td>https://signstock.blob.core.windows.net/signsc...</td>\n",
       "      <td>0</td>\n",
       "    </tr>\n",
       "    <tr>\n",
       "      <th>11977</th>\n",
       "      <td>53670</td>\n",
       "      <td>specific</td>\n",
       "      <td>[74, 17, 197, 192]</td>\n",
       "      <td>25</td>\n",
       "      <td>-1</td>\n",
       "      <td>1</td>\n",
       "      <td>4</td>\n",
       "      <td>10</td>\n",
       "      <td>signingsavvy</td>\n",
       "      <td>val</td>\n",
       "      <td>https://www.signingsavvy.com/signs/mp4/24/2408...</td>\n",
       "      <td>0</td>\n",
       "    </tr>\n",
       "    <tr>\n",
       "      <th>11978</th>\n",
       "      <td>33768</td>\n",
       "      <td>lonely</td>\n",
       "      <td>[138, 0, 519, 480]</td>\n",
       "      <td>25</td>\n",
       "      <td>-1</td>\n",
       "      <td>1</td>\n",
       "      <td>5</td>\n",
       "      <td>13</td>\n",
       "      <td>asldeafined</td>\n",
       "      <td>val</td>\n",
       "      <td>https://media.asldeafined.com/vocabulary/14687...</td>\n",
       "      <td>0</td>\n",
       "    </tr>\n",
       "    <tr>\n",
       "      <th>11979</th>\n",
       "      <td>62113</td>\n",
       "      <td>wait</td>\n",
       "      <td>[202, 52, 558, 400]</td>\n",
       "      <td>25</td>\n",
       "      <td>-1</td>\n",
       "      <td>1</td>\n",
       "      <td>1</td>\n",
       "      <td>12</td>\n",
       "      <td>aslsearch</td>\n",
       "      <td>test</td>\n",
       "      <td>http://www.aslsearch.com/signs/videos/stall.mp4</td>\n",
       "      <td>0</td>\n",
       "    </tr>\n",
       "  </tbody>\n",
       "</table>\n",
       "</div>"
      ],
      "text/plain": [
       "      video_id     gloss                   bbox fps frame_end frame_start  \\\n",
       "11975    32388     laugh     [64, 25, 208, 192]  25        -1           1   \n",
       "11976    40117    orange  [910, 68, 1734, 1056]  25        -1           1   \n",
       "11977    53670  specific     [74, 17, 197, 192]  25        -1           1   \n",
       "11978    33768    lonely     [138, 0, 519, 480]  25        -1           1   \n",
       "11979    62113      wait    [202, 52, 558, 400]  25        -1           1   \n",
       "\n",
       "      instance_id signer_id        source  split  \\\n",
       "11975          20        10  signingsavvy  train   \n",
       "11976           8        39    signschool  train   \n",
       "11977           4        10  signingsavvy    val   \n",
       "11978           5        13   asldeafined    val   \n",
       "11979           1        12     aslsearch   test   \n",
       "\n",
       "                                                     url variation_id  \n",
       "11975  https://www.signingsavvy.com/signs/mp4/22/2229...            1  \n",
       "11976  https://signstock.blob.core.windows.net/signsc...            0  \n",
       "11977  https://www.signingsavvy.com/signs/mp4/24/2408...            0  \n",
       "11978  https://media.asldeafined.com/vocabulary/14687...            0  \n",
       "11979    http://www.aslsearch.com/signs/videos/stall.mp4            0  "
      ]
     },
     "execution_count": 8,
     "metadata": {},
     "output_type": "execute_result"
    }
   ],
   "source": [
    "clean_df.tail()\n"
   ]
  },
  {
   "cell_type": "code",
   "execution_count": 9,
   "id": "676df74a",
   "metadata": {
    "execution": {
     "iopub.execute_input": "2023-02-25T23:24:50.023225Z",
     "iopub.status.busy": "2023-02-25T23:24:50.022951Z",
     "iopub.status.idle": "2023-02-25T23:24:51.447697Z",
     "shell.execute_reply": "2023-02-25T23:24:51.446715Z"
    },
    "papermill": {
     "duration": 1.436331,
     "end_time": "2023-02-25T23:24:51.451001",
     "exception": false,
     "start_time": "2023-02-25T23:24:50.014670",
     "status": "completed"
    },
    "tags": []
   },
   "outputs": [
    {
     "data": {
      "image/png": "[encoded data removed]",
      "text/plain": [
       "<Figure size 2000x1000 with 1 Axes>"
      ]
     },
     "metadata": {},
     "output_type": "display_data"
    }
   ],
   "source": [
    "clean_samples = []\n",
    "clean_df[\"gloss\"] = clean_df[\"gloss\"].astype(\"str\")\n",
    "\n",
    "for i in range(100):\n",
    "    clean_samples.append(clean_df[\"gloss\"].value_counts()[gloss_list[i]])\n",
    "#     og_samples.append(df[\"gloss\"].value_counts()[gloss_list[i]])\n",
    "\n",
    "fig, ax = plt.subplots(figsize = [20,10])\n",
    "\n",
    "Xval = np.arange(100)\n",
    "\n",
    "plt.xticks(range(100),gloss_list[:100],rotation = 90)\n",
    "rects1 = ax.bar(Xval-0.2,clean_samples,0.4, label=\"clips that are in the videos folder\")\n",
    "# rects2 = ax.bar(Xval+0.2,og_samples,0.4,label=\"clips that are in the Json\")\n",
    "\n",
    "plt.ylabel(\"Number of clips\")\n",
    "\n",
    "\n",
    "plt.legend()\n",
    "plt.show()"
   ]
  },
  {
   "cell_type": "code",
   "execution_count": 10,
   "id": "9b765d6c",
   "metadata": {
    "execution": {
     "iopub.execute_input": "2023-02-25T23:24:51.470413Z",
     "iopub.status.busy": "2023-02-25T23:24:51.469549Z",
     "iopub.status.idle": "2023-02-25T23:24:51.478114Z",
     "shell.execute_reply": "2023-02-25T23:24:51.476984Z"
    },
    "papermill": {
     "duration": 0.02051,
     "end_time": "2023-02-25T23:24:51.480491",
     "exception": false,
     "start_time": "2023-02-25T23:24:51.459981",
     "status": "completed"
    },
    "tags": []
   },
   "outputs": [
    {
     "data": {
      "text/plain": [
       "[6,\n",
       " 15,\n",
       " 14,\n",
       " 16,\n",
       " 7,\n",
       " 15,\n",
       " 5,\n",
       " 14,\n",
       " 13,\n",
       " 14,\n",
       " 11,\n",
       " 9,\n",
       " 14,\n",
       " 11,\n",
       " 16,\n",
       " 11,\n",
       " 10,\n",
       " 12,\n",
       " 8,\n",
       " 10,\n",
       " 16,\n",
       " 9,\n",
       " 10,\n",
       " 10,\n",
       " 10,\n",
       " 11,\n",
       " 9,\n",
       " 10,\n",
       " 5,\n",
       " 13,\n",
       " 12,\n",
       " 11,\n",
       " 13,\n",
       " 8,\n",
       " 13,\n",
       " 9,\n",
       " 11,\n",
       " 11,\n",
       " 10,\n",
       " 10,\n",
       " 9,\n",
       " 8,\n",
       " 9,\n",
       " 10,\n",
       " 12,\n",
       " 12,\n",
       " 12,\n",
       " 10,\n",
       " 13,\n",
       " 10,\n",
       " 8,\n",
       " 13,\n",
       " 11,\n",
       " 10,\n",
       " 12,\n",
       " 8,\n",
       " 12,\n",
       " 9,\n",
       " 7,\n",
       " 12,\n",
       " 10,\n",
       " 7,\n",
       " 8,\n",
       " 7,\n",
       " 10,\n",
       " 12,\n",
       " 9,\n",
       " 9,\n",
       " 12,\n",
       " 11,\n",
       " 9,\n",
       " 10,\n",
       " 13,\n",
       " 8,\n",
       " 9,\n",
       " 10,\n",
       " 9,\n",
       " 12,\n",
       " 6,\n",
       " 8,\n",
       " 7,\n",
       " 10,\n",
       " 9,\n",
       " 8,\n",
       " 9,\n",
       " 10,\n",
       " 9,\n",
       " 7,\n",
       " 11,\n",
       " 8,\n",
       " 6,\n",
       " 7,\n",
       " 8,\n",
       " 9,\n",
       " 8,\n",
       " 9,\n",
       " 9,\n",
       " 10,\n",
       " 10,\n",
       " 11]"
      ]
     },
     "execution_count": 10,
     "metadata": {},
     "output_type": "execute_result"
    }
   ],
   "source": [
    "clean_samples"
   ]
  },
  {
   "cell_type": "markdown",
   "id": "a72d5ab5",
   "metadata": {
    "papermill": {
     "duration": 0.00871,
     "end_time": "2023-02-25T23:24:51.497792",
     "exception": false,
     "start_time": "2023-02-25T23:24:51.489082",
     "status": "completed"
    },
    "tags": []
   },
   "source": [
    "**Download the raw videos**"
   ]
  },
  {
   "cell_type": "code",
   "execution_count": 11,
   "id": "5cc8b7c0",
   "metadata": {
    "execution": {
     "iopub.execute_input": "2023-02-25T23:24:51.517319Z",
     "iopub.status.busy": "2023-02-25T23:24:51.516443Z",
     "iopub.status.idle": "2023-02-25T23:24:51.522434Z",
     "shell.execute_reply": "2023-02-25T23:24:51.521538Z"
    },
    "papermill": {
     "duration": 0.018101,
     "end_time": "2023-02-25T23:24:51.524690",
     "exception": false,
     "start_time": "2023-02-25T23:24:51.506589",
     "status": "completed"
    },
    "tags": []
   },
   "outputs": [],
   "source": [
    "logging.basicConfig(filename='download_{}.log'.format(int(time.time())), filemode='w', level=logging.DEBUG)\n",
    "logging.getLogger().addHandler(logging.StreamHandler(sys.stdout))\n"
   ]
  },
  {
   "cell_type": "code",
   "execution_count": 12,
   "id": "2366ede9",
   "metadata": {
    "execution": {
     "iopub.execute_input": "2023-02-25T23:24:51.543878Z",
     "iopub.status.busy": "2023-02-25T23:24:51.543103Z",
     "iopub.status.idle": "2023-02-25T23:24:51.550494Z",
     "shell.execute_reply": "2023-02-25T23:24:51.549338Z"
    },
    "papermill": {
     "duration": 0.019124,
     "end_time": "2023-02-25T23:24:51.552716",
     "exception": false,
     "start_time": "2023-02-25T23:24:51.533592",
     "status": "completed"
    },
    "tags": []
   },
   "outputs": [],
   "source": [
    "def request_video(url, referer=''):\n",
    "    print('requesting video')\n",
    "    user_agent = 'Mozilla/5.0 (Windows; U; Windows NT 5.1; en-US; rv:1.9.0.7) Gecko/2009021910 Firefox/3.0.7'\n",
    "    headers = {'User-Agent': user_agent,\n",
    "              }\n",
    "    \n",
    "    if referer:\n",
    "        headers['Referer'] = referer\n",
    "    \n",
    "    #assemble the request\n",
    "    request = urllib.request.Request(url,None, headers)\n",
    "    \n",
    "    logging.info(f'Requesting {url}')\n",
    "    response = urllib.request.urlopen(request)\n",
    "    data = response.read()\n",
    "    print('requested video')\n",
    "    return data"
   ]
  },
  {
   "cell_type": "code",
   "execution_count": 13,
   "id": "ed388b73",
   "metadata": {
    "execution": {
     "iopub.execute_input": "2023-02-25T23:24:51.571531Z",
     "iopub.status.busy": "2023-02-25T23:24:51.570632Z",
     "iopub.status.idle": "2023-02-25T23:24:51.576487Z",
     "shell.execute_reply": "2023-02-25T23:24:51.575427Z"
    },
    "papermill": {
     "duration": 0.017517,
     "end_time": "2023-02-25T23:24:51.578724",
     "exception": false,
     "start_time": "2023-02-25T23:24:51.561207",
     "status": "completed"
    },
    "tags": []
   },
   "outputs": [],
   "source": [
    "def save_video(data, saveto):\n",
    "    print('saving video')\n",
    "    with open(saveto, 'wb+') as f:\n",
    "        f.write(data)\n",
    "\n",
    "\n",
    "    time.sleep(random.uniform(0.5, 1.5))\n",
    "    print('saved video')"
   ]
  },
  {
   "cell_type": "code",
   "execution_count": 14,
   "id": "4ce01d11",
   "metadata": {
    "execution": {
     "iopub.execute_input": "2023-02-25T23:24:51.597951Z",
     "iopub.status.busy": "2023-02-25T23:24:51.597117Z",
     "iopub.status.idle": "2023-02-25T23:24:51.602229Z",
     "shell.execute_reply": "2023-02-25T23:24:51.601359Z"
    },
    "papermill": {
     "duration": 0.017017,
     "end_time": "2023-02-25T23:24:51.604238",
     "exception": false,
     "start_time": "2023-02-25T23:24:51.587221",
     "status": "completed"
    },
    "tags": []
   },
   "outputs": [],
   "source": [
    "def download_youtube(url, dirname, video_id):\n",
    "    raise NotImplementedError('Urllib cant deal with this link')"
   ]
  },
  {
   "cell_type": "code",
   "execution_count": 15,
   "id": "718cbff3",
   "metadata": {
    "execution": {
     "iopub.execute_input": "2023-02-25T23:24:51.622756Z",
     "iopub.status.busy": "2023-02-25T23:24:51.622071Z",
     "iopub.status.idle": "2023-02-25T23:24:51.627398Z",
     "shell.execute_reply": "2023-02-25T23:24:51.626426Z"
    },
    "papermill": {
     "duration": 0.016832,
     "end_time": "2023-02-25T23:24:51.629633",
     "exception": false,
     "start_time": "2023-02-25T23:24:51.612801",
     "status": "completed"
    },
    "tags": []
   },
   "outputs": [],
   "source": [
    "def download_aslpro(url, dirname, video_id):\n",
    "    saveto = os.path.join(dirname, '{}.swf'.format(video_id))\n",
    "    if os.path.exists(saveto):\n",
    "        logging.info('{} exists at {}'.format(video_id, saveto))\n",
    "        return\n",
    "    \n",
    "    data = request_video(url, referer='http://www.aslpro.com/cgi-bin/aslpro/aslpro.cgi')\n",
    "    save_video(data, saveto)\n",
    "    print('downloaded asl video')"
   ]
  },
  {
   "cell_type": "code",
   "execution_count": 16,
   "id": "a5827e13",
   "metadata": {
    "execution": {
     "iopub.execute_input": "2023-02-25T23:24:51.647711Z",
     "iopub.status.busy": "2023-02-25T23:24:51.646804Z",
     "iopub.status.idle": "2023-02-25T23:24:51.653150Z",
     "shell.execute_reply": "2023-02-25T23:24:51.652208Z"
    },
    "papermill": {
     "duration": 0.017767,
     "end_time": "2023-02-25T23:24:51.655297",
     "exception": false,
     "start_time": "2023-02-25T23:24:51.637530",
     "status": "completed"
    },
    "tags": []
   },
   "outputs": [],
   "source": [
    "def download_others(url, dirname, video_id):\n",
    "    saveto = os.path.join(dirname, '{}.mp4'.format(video_id))\n",
    "    if os.path.exists(saveto):\n",
    "        logging.info(f'{video_id} exists at {saveto}')\n",
    "        return\n",
    "    \n",
    "    data = request_videos(url)\n",
    "    save_video(data, saveto)\n",
    "    print('downloaded other video')"
   ]
  },
  {
   "cell_type": "code",
   "execution_count": 17,
   "id": "4b90907a",
   "metadata": {
    "execution": {
     "iopub.execute_input": "2023-02-25T23:24:51.674122Z",
     "iopub.status.busy": "2023-02-25T23:24:51.673174Z",
     "iopub.status.idle": "2023-02-25T23:24:51.678660Z",
     "shell.execute_reply": "2023-02-25T23:24:51.677684Z"
    },
    "papermill": {
     "duration": 0.017282,
     "end_time": "2023-02-25T23:24:51.680949",
     "exception": false,
     "start_time": "2023-02-25T23:24:51.663667",
     "status": "completed"
    },
    "tags": []
   },
   "outputs": [],
   "source": [
    "# Choose the appropriate download method based on the url\n",
    "def select_download_method(url):\n",
    "    if 'aslpro' in url:\n",
    "        return download_aslpro\n",
    "    elif 'youtube' in url or 'youtu.be' in url:\n",
    "        return download_youtube\n",
    "    else: \n",
    "        return download_others"
   ]
  },
  {
   "cell_type": "code",
   "execution_count": 18,
   "id": "6c7694f7",
   "metadata": {
    "execution": {
     "iopub.execute_input": "2023-02-25T23:24:51.700052Z",
     "iopub.status.busy": "2023-02-25T23:24:51.699152Z",
     "iopub.status.idle": "2023-02-25T23:24:51.706571Z",
     "shell.execute_reply": "2023-02-25T23:24:51.705675Z"
    },
    "papermill": {
     "duration": 0.019267,
     "end_time": "2023-02-25T23:24:51.708778",
     "exception": false,
     "start_time": "2023-02-25T23:24:51.689511",
     "status": "completed"
    },
    "tags": []
   },
   "outputs": [],
   "source": [
    "def download_nonyt_videos(indexfile, saveto='raw_videos'):\n",
    "    content = json.load(open(indexfile))\n",
    "    \n",
    "    if not os.path.exists(saveto):\n",
    "        os.mkdir(saveto)\n",
    "        \n",
    "    for entry in content[:100]:\n",
    "        gloss = entry['gloss']\n",
    "        instances = entry['instances']\n",
    "        \n",
    "        for inst in instances:\n",
    "            video_url = inst['url']\n",
    "            video_id = inst['video_id']\n",
    "            \n",
    "            logging.info(f'gloss: {gloss}, video: {video_id}')\n",
    "            \n",
    "            download_method = select_download_method(video_url)\n",
    "            \n",
    "            if download_method == download_youtube:\n",
    "                logging.warning(f'Skipping YouTube video {video_id}')\n",
    "                continue\n",
    "            \n",
    "            try:\n",
    "                download_method(video_url,saveto, video_id)\n",
    "            except Exception as e:\n",
    "                logging.error(f'Unsuccesful downloading - video {video_id}, url: {video_url}')    "
   ]
  },
  {
   "cell_type": "code",
   "execution_count": 19,
   "id": "6f8121a9",
   "metadata": {
    "execution": {
     "iopub.execute_input": "2023-02-25T23:24:51.727294Z",
     "iopub.status.busy": "2023-02-25T23:24:51.726381Z",
     "iopub.status.idle": "2023-02-25T23:24:51.731968Z",
     "shell.execute_reply": "2023-02-25T23:24:51.731089Z"
    },
    "papermill": {
     "duration": 0.016983,
     "end_time": "2023-02-25T23:24:51.734082",
     "exception": false,
     "start_time": "2023-02-25T23:24:51.717099",
     "status": "completed"
    },
    "tags": []
   },
   "outputs": [],
   "source": [
    "def check_youtube_dl_version():\n",
    "    print('checking yt version')\n",
    "    ver = os.popen('youtube-dl --version').read()\n",
    "\n",
    "    assert ver, \"youtube-dl cannot be found in PATH. Please verify your installation.\"\n",
    "    assert ver >= '2020.03.08', \"Please update youtube-dl to newest version.\"\n"
   ]
  },
  {
   "cell_type": "code",
   "execution_count": 20,
   "id": "0db156f9",
   "metadata": {
    "execution": {
     "iopub.execute_input": "2023-02-25T23:24:51.752773Z",
     "iopub.status.busy": "2023-02-25T23:24:51.751940Z",
     "iopub.status.idle": "2023-02-25T23:24:51.762156Z",
     "shell.execute_reply": "2023-02-25T23:24:51.761248Z"
    },
    "papermill": {
     "duration": 0.021899,
     "end_time": "2023-02-25T23:24:51.764488",
     "exception": false,
     "start_time": "2023-02-25T23:24:51.742589",
     "status": "completed"
    },
    "tags": []
   },
   "outputs": [],
   "source": [
    "def download_yt_videos(indexfile, saveto='/kaggle/input/wlasl-processed/videos'):\n",
    "    print('download yt vid')\n",
    "    content = json.load(open(indexfile))\n",
    "    \n",
    "    if not os.path.exists(saveto):\n",
    "        os.mkdir(saveto)\n",
    "    count = 20\n",
    "    for entry in content[:100]:\n",
    "        if count == 0:\n",
    "            return\n",
    "        count = count -1\n",
    "        gloss = entry['gloss']\n",
    "        instances = entry['instances']\n",
    "\n",
    "        for inst in instances:\n",
    "            video_url = inst['url']\n",
    "            video_id = inst['video_id']\n",
    "\n",
    "            if 'youtube' not in video_url and 'youtu.be' not in video_url:\n",
    "                continue\n",
    "\n",
    "            if os.path.exists(os.path.join(saveto, video_url[-11:] + '.mp4')) or os.path.exists(os.path.join(saveto, video_url[-11:] + '.mkv')):\n",
    "                logging.info('YouTube videos {} already exists.'.format(video_url))\n",
    "                continue\n",
    "            else:\n",
    "                cmd = \"youtube-dl \\\"{}\\\" -o \\\"{}%(id)s.%(ext)s\\\"\"\n",
    "                cmd = cmd.format(video_url, saveto + os.path.sep)\n",
    "\n",
    "                rv = os.system(cmd)\n",
    "                \n",
    "                if not rv:\n",
    "                    logging.info('Finish downloading youtube video url {}'.format(video_url))\n",
    "                else:\n",
    "                    logging.error('Unsuccessful downloading - youtube video url {}'.format(video_url))\n",
    "\n",
    "                # please be nice to the host - take pauses and avoid spamming\n",
    "                time.sleep(random.uniform(1.0, 1.5))\n",
    "                "
   ]
  },
  {
   "cell_type": "code",
   "execution_count": 21,
   "id": "df66b829",
   "metadata": {
    "execution": {
     "iopub.execute_input": "2023-02-25T23:24:51.783171Z",
     "iopub.status.busy": "2023-02-25T23:24:51.782294Z",
     "iopub.status.idle": "2023-02-25T23:24:51.786823Z",
     "shell.execute_reply": "2023-02-25T23:24:51.785954Z"
    },
    "papermill": {
     "duration": 0.016077,
     "end_time": "2023-02-25T23:24:51.789118",
     "exception": false,
     "start_time": "2023-02-25T23:24:51.773041",
     "status": "completed"
    },
    "tags": []
   },
   "outputs": [],
   "source": [
    "# logging.info('Start downloading non-youtube videos.')\n",
    "# download_nonyt_videos('/kaggle/input/wlasl-processed/WLASL_v0.3.json')\n",
    "\n",
    "# check_youtube_dl_version()\n",
    "# logging.info('Start downloading youtube videos.')\n",
    "# download_yt_videos('/kaggle/input/wlasl-processed/WLASL_v0.3.json')"
   ]
  },
  {
   "cell_type": "markdown",
   "id": "40030475",
   "metadata": {
    "papermill": {
     "duration": 0.00884,
     "end_time": "2023-02-25T23:24:51.806110",
     "exception": false,
     "start_time": "2023-02-25T23:24:51.797270",
     "status": "completed"
    },
    "tags": []
   },
   "source": [
    "**Preprocess the raw videos**"
   ]
  },
  {
   "cell_type": "code",
   "execution_count": 22,
   "id": "0c5bcc04",
   "metadata": {
    "execution": {
     "iopub.execute_input": "2023-02-25T23:24:51.824700Z",
     "iopub.status.busy": "2023-02-25T23:24:51.824414Z",
     "iopub.status.idle": "2023-02-25T23:24:51.831070Z",
     "shell.execute_reply": "2023-02-25T23:24:51.830098Z"
    },
    "papermill": {
     "duration": 0.018452,
     "end_time": "2023-02-25T23:24:51.833146",
     "exception": false,
     "start_time": "2023-02-25T23:24:51.814694",
     "status": "completed"
    },
    "tags": []
   },
   "outputs": [],
   "source": [
    "# # preprocessing script for WLASL dataset\n",
    "# # 1. Convert .swf, .mkv file to mp4.\n",
    "# # 2. Extract YouTube frames and create video instances.\n",
    "\n",
    "# import os\n",
    "# import json\n",
    "# import cv2\n",
    "\n",
    "# import shutil\n",
    "\n",
    "# def convert_everything_to_mp4():\n",
    "#     cmd = 'bash /kaggle/input/helper/swf2mp4.sh'\n",
    "\n",
    "#     os.system(cmd)\n",
    "\n",
    "\n",
    "# def video_to_frames(video_path, size=None):\n",
    "#     \"\"\"\n",
    "#     video_path -> str, path to video.\n",
    "#     size -> (int, int), width, height.\n",
    "#     \"\"\"\n",
    "\n",
    "#     cap = cv2.VideoCapture(video_path)\n",
    "\n",
    "#     frames = []\n",
    "    \n",
    "#     while True:\n",
    "#         ret, frame = cap.read()\n",
    "    \n",
    "#         if ret:\n",
    "#             if size:\n",
    "#                 frame = cv2.resize(frame, size)\n",
    "#             frames.append(frame)\n",
    "#         else:\n",
    "#             break\n",
    "\n",
    "#     cap.release()\n",
    "\n",
    "#     return frames\n",
    "\n",
    "\n",
    "# def convert_frames_to_video(frame_array, path_out, size, fps=25):\n",
    "#     out = cv2.VideoWriter(path_out, cv2.VideoWriter_fourcc(*'mp4v'), fps, size)\n",
    "\n",
    "#     for i in range(len(frame_array)):\n",
    "#         # writing to a image array\n",
    "#         out.write(frame_array[i])\n",
    "#     out.release()\n",
    "\n",
    "\n",
    "# def extract_frame_as_video(src_video_path, start_frame, end_frame):\n",
    "#     frames = video_to_frames(src_video_path)\n",
    "\n",
    "#     return frames[start_frame: end_frame+1]\n",
    "\n",
    "\n",
    "# def extract_all_yt_instances(content):\n",
    "#     cnt = 1\n",
    "\n",
    "#     if not os.path.exists('videos'):\n",
    "#         os.mkdir('videos')\n",
    "\n",
    "#     for entry in content:\n",
    "#         instances = entry['instances']\n",
    "\n",
    "#         for inst in instances:\n",
    "#             url = inst['url']\n",
    "#             video_id = inst['video_id']\n",
    "\n",
    "#             if 'youtube' in url or 'youtu.be' in url:\n",
    "#                 cnt += 1\n",
    "                \n",
    "#                 yt_identifier = url[-11:]\n",
    "\n",
    "#                 src_video_path = os.path.join('raw_videos_mp4', yt_identifier + '.mp4')\n",
    "#                 dst_video_path = os.path.join('videos', video_id + '.mp4')\n",
    "\n",
    "#                 if not os.path.exists(src_video_path):\n",
    "#                     continue\n",
    "\n",
    "#                 if os.path.exists(dst_video_path):\n",
    "#                     print('{} exists.'.format(dst_video_path))\n",
    "#                     continue\n",
    "\n",
    "#                 # because the JSON file indexes from 1.\n",
    "#                 start_frame = inst['frame_start'] - 1\n",
    "#                 end_frame = inst['frame_end'] - 1\n",
    "\n",
    "#                 if end_frame <= 0:\n",
    "#                     shutil.copyfile(src_video_path, dst_video_path)\n",
    "#                     continue\n",
    "\n",
    "#                 selected_frames = extract_frame_as_video(src_video_path, start_frame, end_frame)\n",
    "                \n",
    "#                 # when OpenCV reads an image, it returns size in (h, w, c)\n",
    "#                 # when OpenCV creates a writer, it requres size in (w, h).\n",
    "#                 size = selected_frames[0].shape[:2][::-1]\n",
    "                \n",
    "#                 convert_frames_to_video(selected_frames, dst_video_path, size)\n",
    "\n",
    "#                 print(cnt, dst_video_path)\n",
    "#             else:\n",
    "#                 cnt += 1\n",
    "\n",
    "#                 src_video_path = os.path.join('raw_videos_mp4', video_id + '.mp4')\n",
    "#                 dst_video_path = os.path.join('videos', video_id + '.mp4')\n",
    "\n",
    "#                 if os.path.exists(dst_video_path):\n",
    "#                     print('{} exists.'.format(dst_video_path))\n",
    "#                     continue\n",
    "\n",
    "#                 if not os.path.exists(src_video_path):\n",
    "#                     continue\n",
    "\n",
    "#                 print(cnt, dst_video_path)\n",
    "#                 shutil.copyfile(src_video_path, dst_video_path)\n",
    "\n",
    "\n",
    "# def main():\n",
    "#     # 1. Convert .swf, .mkv file to mp4.\n",
    "#     convert_everything_to_mp4()\n",
    "\n",
    "#     content = json.load(open('/kaggle/input/wlasl-processed/WLASL_v0.3.json'))\n",
    "#     extract_all_yt_instances(content)\n",
    "\n",
    "\n",
    "# if __name__ == \"__main__\":\n",
    "#     main()"
   ]
  },
  {
   "cell_type": "markdown",
   "id": "ab509f7e",
   "metadata": {
    "papermill": {
     "duration": 0.008307,
     "end_time": "2023-02-25T23:24:51.849980",
     "exception": false,
     "start_time": "2023-02-25T23:24:51.841673",
     "status": "completed"
    },
    "tags": []
   },
   "source": []
  },
  {
   "cell_type": "code",
   "execution_count": null,
   "id": "1e57e788",
   "metadata": {
    "papermill": {
     "duration": 0.00868,
     "end_time": "2023-02-25T23:24:51.866877",
     "exception": false,
     "start_time": "2023-02-25T23:24:51.858197",
     "status": "completed"
    },
    "tags": []
   },
   "outputs": [],
   "source": []
  },
  {
   "cell_type": "code",
   "execution_count": null,
   "id": "7c038efc",
   "metadata": {
    "papermill": {
     "duration": 0.008357,
     "end_time": "2023-02-25T23:24:51.884099",
     "exception": false,
     "start_time": "2023-02-25T23:24:51.875742",
     "status": "completed"
    },
    "tags": []
   },
   "outputs": [],
   "source": []
  }
 ],
 "metadata": {
  "kernelspec": {
   "display_name": "Python 3",
   "language": "python",
   "name": "python3"
  },
  "language_info": {
   "codemirror_mode": {
    "name": "ipython",
    "version": 3
   },
   "file_extension": ".py",
   "mimetype": "text/x-python",
   "name": "python",
   "nbconvert_exporter": "python",
   "pygments_lexer": "ipython3",
   "version": "3.7.12"
  },
  "papermill": {
   "default_parameters": {},
   "duration": 138.727587,
   "end_time": "2023-02-25T23:24:52.512750",
   "environment_variables": {},
   "exception": null,
   "input_path": "__notebook__.ipynb",
   "output_path": "__notebook__.ipynb",
   "parameters": {},
   "start_time": "2023-02-25T23:22:33.785163",
   "version": "2.4.0"
  }
 },
 "nbformat": 4,
 "nbformat_minor": 5
}
